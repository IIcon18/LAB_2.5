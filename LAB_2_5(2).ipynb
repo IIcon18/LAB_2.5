{
  "nbformat": 4,
  "nbformat_minor": 0,
  "metadata": {
    "colab": {
      "provenance": []
    },
    "kernelspec": {
      "name": "python3",
      "display_name": "Python 3"
    },
    "language_info": {
      "name": "python"
    }
  },
  "cells": [
    {
      "cell_type": "code",
      "execution_count": null,
      "metadata": {
        "id": "6I_Dk-imDPKf"
      },
      "outputs": [],
      "source": [
        "import tensorflow as tf\n",
        "from tensorflow.keras import datasets, layers, models, utils\n",
        "from keras.layers import LeakyReLU\n",
        "from tensorflow.keras.utils import to_categorical\n",
        "from tensorflow.keras.datasets import cifar10\n",
        "import matplotlib.pyplot as plt\n",
        "\n",
        "from tensorflow.keras.preprocessing.image import ImageDataGenerator\n",
        "from tensorflow.keras.callbacks import EarlyStopping"
      ]
    },
    {
      "cell_type": "code",
      "source": [
        "(x_train, y_train), (x_test, y_test) = datasets.cifar10.load_data()"
      ],
      "metadata": {
        "id": "Aq9rtIVQDg-w",
        "colab": {
          "base_uri": "https://localhost:8080/"
        },
        "outputId": "bd40168d-1893-49ba-d323-1c72e504e98a"
      },
      "execution_count": null,
      "outputs": [
        {
          "output_type": "stream",
          "name": "stdout",
          "text": [
            "Downloading data from https://www.cs.toronto.edu/~kriz/cifar-10-python.tar.gz\n",
            "170498071/170498071 [==============================] - 2s 0us/step\n"
          ]
        }
      ]
    },
    {
      "cell_type": "code",
      "source": [
        "x_train, x_test = x_train / 255.0, x_test / 255.0"
      ],
      "metadata": {
        "id": "CVIG3YcjDRB8"
      },
      "execution_count": null,
      "outputs": []
    },
    {
      "cell_type": "code",
      "source": [
        "y_train = tf.keras.utils.to_categorical(y_train, 10)\n",
        "y_test = tf.keras.utils.to_categorical(y_test, 10)"
      ],
      "metadata": {
        "id": "zvh1BmbLDo2Z"
      },
      "execution_count": null,
      "outputs": []
    },
    {
      "cell_type": "code",
      "source": [
        "#1 попробуем добавить Data Augemntastion\n",
        "datagen = ImageDataGenerator(\n",
        "    rotation_range=15,\n",
        "    width_shift_range=0.1,\n",
        "    height_shift_range=0.1,\n",
        "    horizontal_flip=True,\n",
        ")\n",
        "datagen.fit(x_train)"
      ],
      "metadata": {
        "id": "W5212XHpDqIk"
      },
      "execution_count": null,
      "outputs": []
    },
    {
      "cell_type": "code",
      "source": [
        "model = models.Sequential()\n",
        "model.add(layers.Conv2D(32, (3, 3), padding='same', input_shape=(32, 32, 3)))\n",
        "model.add(layers.LeakyReLU(alpha=0.1))\n",
        "model.add(layers.BatchNormalization())\n",
        "model.add(layers.MaxPooling2D((2, 2)))\n",
        "model.add(layers.Dropout(0.2))\n",
        "\n",
        "model.add(layers.Conv2D(64, (3, 3), padding='same'))\n",
        "model.add(layers.LeakyReLU(alpha=0.1))\n",
        "model.add(layers.BatchNormalization())\n",
        "model.add(layers.MaxPooling2D((2, 2)))\n",
        "model.add(layers.Dropout(0.3))\n",
        "\n",
        "model.add(layers.Conv2D(128, (3, 3), padding='same'))\n",
        "model.add(layers.LeakyReLU(alpha=0.1))\n",
        "model.add(layers.BatchNormalization())\n",
        "model.add(layers.MaxPooling2D((2, 2)))\n",
        "model.add(layers.Dropout(0.4))\n",
        "\n",
        "model.add(layers.Flatten())\n",
        "model.add(layers.Dense(128))\n",
        "model.add(layers.LeakyReLU(alpha=0.1))\n",
        "model.add(layers.Dropout(0.5))\n",
        "model.add(layers.Dense(10, activation='softmax'))"
      ],
      "metadata": {
        "id": "WO_qSXZUD4NU"
      },
      "execution_count": null,
      "outputs": []
    },
    {
      "cell_type": "code",
      "source": [
        "print(model.summary())"
      ],
      "metadata": {
        "colab": {
          "base_uri": "https://localhost:8080/"
        },
        "id": "XCxWOe3ND4Is",
        "outputId": "f04479b2-8bc4-4f4d-81cc-ece18b4ac26a"
      },
      "execution_count": null,
      "outputs": [
        {
          "output_type": "stream",
          "name": "stdout",
          "text": [
            "Model: \"sequential\"\n",
            "_________________________________________________________________\n",
            " Layer (type)                Output Shape              Param #   \n",
            "=================================================================\n",
            " conv2d (Conv2D)             (None, 32, 32, 32)        896       \n",
            "                                                                 \n",
            " leaky_re_lu (LeakyReLU)     (None, 32, 32, 32)        0         \n",
            "                                                                 \n",
            " batch_normalization (Batch  (None, 32, 32, 32)        128       \n",
            " Normalization)                                                  \n",
            "                                                                 \n",
            " max_pooling2d (MaxPooling2  (None, 16, 16, 32)        0         \n",
            " D)                                                              \n",
            "                                                                 \n",
            " dropout (Dropout)           (None, 16, 16, 32)        0         \n",
            "                                                                 \n",
            " conv2d_1 (Conv2D)           (None, 16, 16, 64)        18496     \n",
            "                                                                 \n",
            " leaky_re_lu_1 (LeakyReLU)   (None, 16, 16, 64)        0         \n",
            "                                                                 \n",
            " batch_normalization_1 (Bat  (None, 16, 16, 64)        256       \n",
            " chNormalization)                                                \n",
            "                                                                 \n",
            " max_pooling2d_1 (MaxPoolin  (None, 8, 8, 64)          0         \n",
            " g2D)                                                            \n",
            "                                                                 \n",
            " dropout_1 (Dropout)         (None, 8, 8, 64)          0         \n",
            "                                                                 \n",
            " conv2d_2 (Conv2D)           (None, 8, 8, 128)         73856     \n",
            "                                                                 \n",
            " leaky_re_lu_2 (LeakyReLU)   (None, 8, 8, 128)         0         \n",
            "                                                                 \n",
            " batch_normalization_2 (Bat  (None, 8, 8, 128)         512       \n",
            " chNormalization)                                                \n",
            "                                                                 \n",
            " max_pooling2d_2 (MaxPoolin  (None, 4, 4, 128)         0         \n",
            " g2D)                                                            \n",
            "                                                                 \n",
            " dropout_2 (Dropout)         (None, 4, 4, 128)         0         \n",
            "                                                                 \n",
            " flatten (Flatten)           (None, 2048)              0         \n",
            "                                                                 \n",
            " dense (Dense)               (None, 128)               262272    \n",
            "                                                                 \n",
            " leaky_re_lu_3 (LeakyReLU)   (None, 128)               0         \n",
            "                                                                 \n",
            " dropout_3 (Dropout)         (None, 128)               0         \n",
            "                                                                 \n",
            " dense_1 (Dense)             (None, 10)                1290      \n",
            "                                                                 \n",
            "=================================================================\n",
            "Total params: 357706 (1.36 MB)\n",
            "Trainable params: 357258 (1.36 MB)\n",
            "Non-trainable params: 448 (1.75 KB)\n",
            "_________________________________________________________________\n",
            "None\n"
          ]
        }
      ]
    },
    {
      "cell_type": "code",
      "source": [
        "model.compile(optimizer='adam',\n",
        "              loss='categorical_crossentropy',\n",
        "              metrics=['accuracy'])"
      ],
      "metadata": {
        "id": "zpe6DTrFD3t7"
      },
      "execution_count": null,
      "outputs": []
    },
    {
      "cell_type": "code",
      "source": [
        "early_stopping = EarlyStopping(monitor='val_loss', patience=10, restore_best_weights=True)"
      ],
      "metadata": {
        "id": "TCXZmyn_zXXs"
      },
      "execution_count": null,
      "outputs": []
    },
    {
      "cell_type": "code",
      "source": [
        "history = model.fit(datagen.flow(x_train, y_train, batch_size=64),\n",
        "                    epochs=100, validation_data=(x_test, y_test), callbacks=[early_stopping], verbose=1)"
      ],
      "metadata": {
        "colab": {
          "base_uri": "https://localhost:8080/"
        },
        "id": "WBsHUz1CK_K5",
        "outputId": "4121562d-359f-4347-b9cc-c2c501f6eb96"
      },
      "execution_count": null,
      "outputs": [
        {
          "output_type": "stream",
          "name": "stdout",
          "text": [
            "Epoch 1/100\n",
            "782/782 [==============================] - 170s 215ms/step - loss: 1.8306 - accuracy: 0.3608 - val_loss: 4.8069 - val_accuracy: 0.2576\n",
            "Epoch 2/100\n",
            "782/782 [==============================] - 166s 213ms/step - loss: 1.4327 - accuracy: 0.4845 - val_loss: 1.1793 - val_accuracy: 0.5943\n",
            "Epoch 3/100\n",
            "782/782 [==============================] - 164s 209ms/step - loss: 1.2828 - accuracy: 0.5412 - val_loss: 1.1526 - val_accuracy: 0.6098\n",
            "Epoch 4/100\n",
            "782/782 [==============================] - 164s 209ms/step - loss: 1.1905 - accuracy: 0.5762 - val_loss: 0.9313 - val_accuracy: 0.6716\n",
            "Epoch 5/100\n",
            "782/782 [==============================] - 167s 213ms/step - loss: 1.1340 - accuracy: 0.6007 - val_loss: 1.1973 - val_accuracy: 0.6133\n",
            "Epoch 6/100\n",
            "782/782 [==============================] - 163s 209ms/step - loss: 1.0940 - accuracy: 0.6158 - val_loss: 1.2047 - val_accuracy: 0.5807\n",
            "Epoch 7/100\n",
            "782/782 [==============================] - 163s 208ms/step - loss: 1.0668 - accuracy: 0.6243 - val_loss: 1.0245 - val_accuracy: 0.6623\n",
            "Epoch 8/100\n",
            "782/782 [==============================] - 163s 209ms/step - loss: 1.0388 - accuracy: 0.6338 - val_loss: 1.1449 - val_accuracy: 0.6324\n",
            "Epoch 9/100\n",
            "782/782 [==============================] - 166s 212ms/step - loss: 1.0104 - accuracy: 0.6446 - val_loss: 0.8734 - val_accuracy: 0.6968\n",
            "Epoch 10/100\n",
            "782/782 [==============================] - 164s 210ms/step - loss: 0.9950 - accuracy: 0.6499 - val_loss: 0.9889 - val_accuracy: 0.6600\n",
            "Epoch 11/100\n",
            "782/782 [==============================] - 163s 209ms/step - loss: 0.9833 - accuracy: 0.6577 - val_loss: 0.8757 - val_accuracy: 0.7013\n",
            "Epoch 12/100\n",
            "782/782 [==============================] - 166s 212ms/step - loss: 0.9620 - accuracy: 0.6641 - val_loss: 0.8489 - val_accuracy: 0.7064\n",
            "Epoch 13/100\n",
            "782/782 [==============================] - 163s 209ms/step - loss: 0.9563 - accuracy: 0.6689 - val_loss: 0.7948 - val_accuracy: 0.7162\n",
            "Epoch 14/100\n",
            "782/782 [==============================] - 163s 208ms/step - loss: 0.9423 - accuracy: 0.6725 - val_loss: 0.8706 - val_accuracy: 0.7116\n",
            "Epoch 15/100\n",
            "782/782 [==============================] - 163s 208ms/step - loss: 0.9359 - accuracy: 0.6742 - val_loss: 0.7800 - val_accuracy: 0.7348\n",
            "Epoch 16/100\n",
            "782/782 [==============================] - 166s 213ms/step - loss: 0.9233 - accuracy: 0.6757 - val_loss: 0.8748 - val_accuracy: 0.7015\n",
            "Epoch 17/100\n",
            "782/782 [==============================] - 163s 209ms/step - loss: 0.9130 - accuracy: 0.6833 - val_loss: 0.8237 - val_accuracy: 0.7237\n",
            "Epoch 18/100\n",
            "782/782 [==============================] - 164s 210ms/step - loss: 0.9047 - accuracy: 0.6851 - val_loss: 1.1711 - val_accuracy: 0.6178\n",
            "Epoch 19/100\n",
            "782/782 [==============================] - 164s 210ms/step - loss: 0.8936 - accuracy: 0.6851 - val_loss: 0.8381 - val_accuracy: 0.7142\n",
            "Epoch 20/100\n",
            "782/782 [==============================] - 166s 213ms/step - loss: 0.8900 - accuracy: 0.6910 - val_loss: 0.7851 - val_accuracy: 0.7323\n",
            "Epoch 21/100\n",
            "782/782 [==============================] - 166s 212ms/step - loss: 0.8808 - accuracy: 0.6930 - val_loss: 0.8068 - val_accuracy: 0.7321\n",
            "Epoch 22/100\n",
            "782/782 [==============================] - 167s 213ms/step - loss: 0.8777 - accuracy: 0.6948 - val_loss: 0.9756 - val_accuracy: 0.6849\n",
            "Epoch 23/100\n",
            "782/782 [==============================] - 167s 214ms/step - loss: 0.8664 - accuracy: 0.6993 - val_loss: 0.6845 - val_accuracy: 0.7670\n",
            "Epoch 24/100\n",
            "782/782 [==============================] - 167s 213ms/step - loss: 0.8644 - accuracy: 0.6998 - val_loss: 0.6358 - val_accuracy: 0.7792\n",
            "Epoch 25/100\n",
            "782/782 [==============================] - 168s 214ms/step - loss: 0.8529 - accuracy: 0.7031 - val_loss: 0.6555 - val_accuracy: 0.7762\n",
            "Epoch 26/100\n",
            "782/782 [==============================] - 167s 214ms/step - loss: 0.8493 - accuracy: 0.7051 - val_loss: 0.9027 - val_accuracy: 0.6920\n",
            "Epoch 27/100\n",
            "782/782 [==============================] - 168s 215ms/step - loss: 0.8487 - accuracy: 0.7077 - val_loss: 0.8221 - val_accuracy: 0.7324\n",
            "Epoch 28/100\n",
            "782/782 [==============================] - 166s 212ms/step - loss: 0.8455 - accuracy: 0.7068 - val_loss: 0.6737 - val_accuracy: 0.7743\n",
            "Epoch 29/100\n",
            "782/782 [==============================] - 168s 214ms/step - loss: 0.8369 - accuracy: 0.7101 - val_loss: 0.7791 - val_accuracy: 0.7386\n",
            "Epoch 30/100\n",
            "782/782 [==============================] - 167s 213ms/step - loss: 0.8354 - accuracy: 0.7112 - val_loss: 0.6521 - val_accuracy: 0.7798\n",
            "Epoch 31/100\n",
            "782/782 [==============================] - 168s 214ms/step - loss: 0.8280 - accuracy: 0.7139 - val_loss: 0.8107 - val_accuracy: 0.7285\n",
            "Epoch 32/100\n",
            "782/782 [==============================] - 166s 212ms/step - loss: 0.8293 - accuracy: 0.7128 - val_loss: 0.7608 - val_accuracy: 0.7366\n",
            "Epoch 33/100\n",
            "782/782 [==============================] - 171s 219ms/step - loss: 0.8175 - accuracy: 0.7184 - val_loss: 0.7356 - val_accuracy: 0.7451\n",
            "Epoch 34/100\n",
            "782/782 [==============================] - 172s 219ms/step - loss: 0.8136 - accuracy: 0.7187 - val_loss: 0.6658 - val_accuracy: 0.7716\n"
          ]
        }
      ]
    },
    {
      "cell_type": "code",
      "source": [
        "test_loss, test_accuracy = model.evaluate(x_test, y_test, verbose=2)\n",
        "print(\"Точность на тестовом наборе данных:\", test_accuracy)"
      ],
      "metadata": {
        "colab": {
          "base_uri": "https://localhost:8080/"
        },
        "id": "zXIXaV0cLIIa",
        "outputId": "38715a20-3367-4934-f233-b3b1d1cf8262"
      },
      "execution_count": null,
      "outputs": [
        {
          "output_type": "stream",
          "name": "stdout",
          "text": [
            "313/313 - 7s - loss: 0.6358 - accuracy: 0.7792 - 7s/epoch - 23ms/step\n",
            "Точность на тестовом наборе данных: 0.77920001745224\n"
          ]
        }
      ]
    },
    {
      "cell_type": "code",
      "source": [
        "plt.plot(history.history['accuracy'], label='Точность на обучающем наборе данных')\n",
        "plt.plot(history.history['val_accuracy'], label='Точность на тестовом наборе данных')\n",
        "plt.xlabel('Эпоха')\n",
        "plt.ylabel('Точность')\n",
        "plt.legend()\n",
        "plt.show()"
      ],
      "metadata": {
        "colab": {
          "base_uri": "https://localhost:8080/",
          "height": 451
        },
        "id": "y4WMLE9PLJgN",
        "outputId": "5cb9015b-9d4b-423f-8c06-97148d9ec281"
      },
      "execution_count": null,
      "outputs": [
        {
          "output_type": "display_data",
          "data": {
            "text/plain": [
              "<Figure size 640x480 with 1 Axes>"
            ],
            "image/png": "[encoded data removed]"
          },
          "metadata": {}
        }
      ]
    }
  ]
}